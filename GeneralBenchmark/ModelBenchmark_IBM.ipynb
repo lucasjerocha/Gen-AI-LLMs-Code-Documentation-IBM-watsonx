{
 "cells": [
  {
   "cell_type": "markdown",
   "id": "2855b15e",
   "metadata": {},
   "source": [
    "### **Using lm-evaluation-harness and benchmark tasks Gsm8k and TriviaQa with watsonx.ai foundation models**\n"
   ]
  },
  {
   "cell_type": "markdown",
   "id": "b035cfd5",
   "metadata": {},
   "source": [
    "### **Prerequisites**\n",
    "Before you use the sample code in this notebook, you must perform the following setup tasks:\n",
    "\n",
    "- Create a watsonx.ai Runtime instance.\n",
    "- Create a Cloud Object Storage (COS) instance.\n",
    "\n",
    "**Note: When using Watson Studio, you already have a COS instance associated with the project you are running the notebook in.**\n",
    "\n",
    "How to install lm-evaluation-harness - two ways\n",
    "    lm-evaluation-harness is a unified framework to test generative language models on a large number of different evaluation tasks. For more info and the source code, check out its GitHub repository: https://github.com/EleutherAI/lm-evaluation-harness/tree/main\n",
    "\n",
    "    1 - Package installation - to use as is:\n",
    "\n",
    "!pip install lm-eval | tail -n 1\n",
    "\n",
    "    2- Local installation - for debugging purposes:\n",
    "\n",
    "git clone https://github.com/EleutherAI/lm-evaluation-harness\n",
    "cd lm-evaluation-harness\n",
    "pip install -e ."
   ]
  },
  {
   "cell_type": "markdown",
   "id": "b8f1f108",
   "metadata": {},
   "source": [
    "### **Validate installation**\n"
   ]
  },
  {
   "cell_type": "code",
   "execution_count": 2,
   "id": "cd43d071",
   "metadata": {
    "slideshow": {
     "slide_type": "slide"
    }
   },
   "outputs": [
    {
     "name": "stdout",
     "output_type": "stream",
     "text": [
      "ibm_watsonx_ai              1.3.20\n"
     ]
    },
    {
     "name": "stderr",
     "output_type": "stream",
     "text": [
      "\n",
      "[notice] A new release of pip is available: 24.0 -> 25.1.1\n",
      "[notice] To update, run: python.exe -m pip install --upgrade pip\n"
     ]
    },
    {
     "name": "stdout",
     "output_type": "stream",
     "text": [
      "lm_eval                     0.4.8\n"
     ]
    },
    {
     "name": "stderr",
     "output_type": "stream",
     "text": [
      "\n",
      "[notice] A new release of pip is available: 24.0 -> 25.1.1\n",
      "[notice] To update, run: python.exe -m pip install --upgrade pip\n"
     ]
    }
   ],
   "source": [
    "!pip list | findstr ibm_watsonx_ai\n",
    "!pip list | findstr lm_eval\n"
   ]
  },
  {
   "cell_type": "markdown",
   "id": "b5da7d0e",
   "metadata": {},
   "source": [
    "### **Setting up necessary IBM watsonx credentials**\n",
    "Required credentials:\n",
    "\n",
    "- IBM Cloud API key,\n",
    "- IBM Cloud URL\n",
    "- IBM Cloud Project ID\n"
   ]
  },
  {
   "cell_type": "code",
   "execution_count": null,
   "id": "284b13eb",
   "metadata": {},
   "outputs": [
    {
     "data": {
      "text/plain": [
       "True"
      ]
     },
     "execution_count": 1,
     "metadata": {},
     "output_type": "execute_result"
    }
   ],
   "source": [
    "from dotenv import load_dotenv\n",
    "import os\n",
    "\n",
    "load_dotenv()  # This loads the env automatically"
   ]
  },
  {
   "cell_type": "markdown",
   "id": "294c298b",
   "metadata": {},
   "source": [
    "## **lm-evaluation-harness — Cheat-Sheet**\n",
    "\n",
    "### 1. Required CLI flags\n",
    "| Flag | Purpose | Example |\n",
    "|------|---------|---------|\n",
    "| `--model` | Selects the harness adapter | `watsonx_llm` |\n",
    "| `--model_args` | Passes provider-specific kwargs | `model_id=<MODEL_NAME>` |\n",
    "| `--tasks` | Specifies benchmark datasets | `gsm8k,triviaqa` |\n",
    "| `--limit` | Max # of examples per task | `500` |\n",
    "| `--seed` | Reproducibility for sampling | `42` |\n",
    "\n",
    "---\n",
    "\n",
    "### 2. Model IDs being on IBM Watsonx\n",
    "\n",
    "| Friendly name | `model_id` string |\n",
    "|---------------|-------------------|\n",
    "| Llama-4 Maverick 17B | `meta-llama/llama-4-maverick-17b-128e-instruct-fp8` |\n",
    "| Mistral Large | `mistralai/mistral-large` |\n",
    "| Granite 3B Instruct | `ibm/granite-3-3-8b-instruct` |\n",
    "| Flan-UL2 | `google/flan-ul2` |\n",
    "\n",
    "---\n",
    "\n",
    "\n",
    "\n"
   ]
  },
  {
   "cell_type": "code",
   "execution_count": null,
   "id": "5796da61",
   "metadata": {},
   "outputs": [],
   "source": [
    "import subprocess\n",
    "\n",
    "# List of your model IDs on Watsonx\n",
    "models = [\n",
    "    \"meta-llama/llama-4-maverick-17b-128e-instruct-fp8\",\n",
    "    'mistralai/mistral-large',\n",
    "    \"ibm/granite-3-3-8b-instruct\",\n",
    "    \"google/flan-ul2\",  \n",
    "]\n",
    "\n",
    "# Evaluation tasks\n",
    "tasks = \"gsm8k\"\n",
    "\n",
    "# Create results directory if it doesn't exist\n",
    "os.makedirs(\"results\", exist_ok=True)\n",
    "\n",
    "# Run evaluation for each model\n",
    "for model_id in models:\n",
    "    model_name = model_id.split(\"/\")[-1]\n",
    "    output_path = f\"results/{model_name.replace('-', '_')}_results.json\"\n",
    "\n",
    "    command = [\n",
    "        \"lm_eval\",\n",
    "        \"--model\", \"watsonx_llm\",\n",
    "        \"--verbosity\", \"ERROR\",\n",
    "        \"--model_args\", f\"model_id={model_id}\",\n",
    "        \"--limit\", \"500\",\n",
    "        \"--tasks\", tasks,\n",
    "        \"--output_path\", output_path,\n",
    "        \"--seed\", \"42\",\n",
    "    ]\n",
    "\n",
    "    print(f\"\\n🔍 Evaluating model: {model_id}\")\n",
    "    subprocess.run(command)"
   ]
  },
  {
   "cell_type": "markdown",
   "id": "2a3335d3",
   "metadata": {},
   "source": [
    "### **Summary results**"
   ]
  },
  {
   "cell_type": "code",
   "execution_count": 16,
   "id": "7a562ff7",
   "metadata": {},
   "outputs": [
    {
     "name": "stdout",
     "output_type": "stream",
     "text": [
      "\n",
      "📊 Summary Table:\n",
      "| model                                               |   gsm8k:ExactMatch |   gsm8k:StdErr | gsm8k:99% CI   |\n",
      "|-----------------------------------------------------|--------------------|----------------|----------------|\n",
      "| flan_ul2_results.json                               |              0.246 |         0.0193 | [0.196, 0.296] |\n",
      "| granite_3_3_8b_instruct_results.json                |              0.676 |         0.021  | [0.622, 0.73]  |\n",
      "| llama_4_maverick_17b_128e_instruct_fp8_results.json |              0.924 |         0.0119 | [0.893, 0.955] |\n",
      "| mistral_large_results.json                          |              0.914 |         0.0126 | [0.882, 0.946] |\n"
     ]
    }
   ],
   "source": [
    "import os\n",
    "import json\n",
    "from tabulate import tabulate\n",
    "\n",
    "# 99% Confidence Level Z-score\n",
    "Z_99 = 2.576\n",
    "\n",
    "results_dir = \"results\"\n",
    "summary = []\n",
    "\n",
    "# Walk through all subfolders in results/\n",
    "for model_folder in os.listdir(results_dir):\n",
    "    folder_path = os.path.join(results_dir, model_folder)\n",
    "\n",
    "    if os.path.isdir(folder_path):\n",
    "        # Find the JSON file inside each folder\n",
    "        json_files = [f for f in os.listdir(folder_path) if f.endswith(\".json\")]\n",
    "        if not json_files:\n",
    "            print(f\"⚠️ No JSON file found in {model_folder}\")\n",
    "            continue\n",
    "\n",
    "        # Assume one result file per model folder\n",
    "        result_path = os.path.join(folder_path, json_files[0])\n",
    "\n",
    "        try:\n",
    "            with open(result_path, \"r\", encoding=\"utf-8\") as f:\n",
    "                data = json.load(f)\n",
    "                row = {\"model\": model_folder}\n",
    "\n",
    "                for task, results in data.get(\"results\", {}).items():\n",
    "                    exact_match = None\n",
    "                    stderr = None\n",
    "\n",
    "                    for key, val in results.items():\n",
    "                        if key.startswith(\"exact_match,strict-match\"):\n",
    "                            label = f\"{task}:ExactMatch\"\n",
    "                            exact_match = val\n",
    "                            row[label] = round(val, 3)\n",
    "\n",
    "                        if key.startswith(\"exact_match_stderr,strict-match\"):\n",
    "                            stderr_label = f\"{task}:StdErr\"\n",
    "                            stderr = val\n",
    "                            row[stderr_label] = round(val, 4)  # Keep 4 decimals for more precision\n",
    "\n",
    "                    # Calculate 99% Confidence Interval if both values are found\n",
    "                    if exact_match is not None and stderr is not None:\n",
    "                        ci_lower = exact_match - Z_99 * stderr\n",
    "                        ci_upper = exact_match + Z_99 * stderr\n",
    "                        ci_label = f\"{task}:99% CI\"\n",
    "                        # Format as [lower, upper]\n",
    "                        row[ci_label] = f\"[{round(ci_lower, 3)}, {round(ci_upper, 3)}]\"\n",
    "\n",
    "                summary.append(row)\n",
    "\n",
    "        except Exception as e:\n",
    "            print(f\"❌ Failed to read {result_path}: {e}\")\n",
    "\n",
    "# Display table\n",
    "if summary:\n",
    "    print(\"\\n📊 Summary Table:\")\n",
    "    print(tabulate(summary, headers=\"keys\", tablefmt=\"github\"))\n",
    "else:\n",
    "    print(\"⚠️ No valid results to display.\")\n",
    "\n",
    "\n"
   ]
  }
 ],
 "metadata": {
  "kernelspec": {
   "display_name": ".venv",
   "language": "python",
   "name": "python3"
  },
  "language_info": {
   "codemirror_mode": {
    "name": "ipython",
    "version": 3
   },
   "file_extension": ".py",
   "mimetype": "text/x-python",
   "name": "python",
   "nbconvert_exporter": "python",
   "pygments_lexer": "ipython3",
   "version": "3.12.4"
  }
 },
 "nbformat": 4,
 "nbformat_minor": 5
}
