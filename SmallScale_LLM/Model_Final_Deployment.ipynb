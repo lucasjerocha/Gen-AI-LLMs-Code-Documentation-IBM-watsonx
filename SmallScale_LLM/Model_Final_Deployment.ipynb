{
 "cells": [
  {
   "cell_type": "code",
   "execution_count": 59,
   "id": "37c48fc5",
   "metadata": {},
   "outputs": [
    {
     "data": {
      "text/plain": [
       "True"
      ]
     },
     "execution_count": 59,
     "metadata": {},
     "output_type": "execute_result"
    }
   ],
   "source": [
    "from ibm_watsonx_ai import APIClient\n",
    "import os\n",
    "from dotenv import load_dotenv\n",
    "from ibm_watsonx_ai.experiment import TuneExperiment\n",
    "\n",
    "\n",
    "# Load Environment Variables\n",
    "load_dotenv()"
   ]
  },
  {
   "cell_type": "code",
   "execution_count": 60,
   "id": "e6106d02",
   "metadata": {},
   "outputs": [],
   "source": [
    "wml_credentials = {\n",
    "    \"url\": os.getenv(\"WATSONX_URL\"),            # WatsonX URL\n",
    "    \"apikey\": os.getenv(\"WATSONX_API_KEY\")\n",
    "}"
   ]
  },
  {
   "cell_type": "code",
   "execution_count": 61,
   "id": "584c5323",
   "metadata": {},
   "outputs": [],
   "source": [
    "client = APIClient(\n",
    "    credentials=wml_credentials,\n",
    "    icp=False    # Important: IBM Cloud, not Cloud Pak\n",
    ")"
   ]
  },
  {
   "cell_type": "code",
   "execution_count": 62,
   "id": "d97ba0b8",
   "metadata": {},
   "outputs": [
    {
     "name": "stdout",
     "output_type": "stream",
     "text": [
      "d0c2d56e-8ad1-49af-9e96-18a0648470ee\n"
     ]
    }
   ],
   "source": [
    "client.set.default_project(os.getenv(\"WATSONX_PROJECT_ID\"))\n",
    "project_id = \"d0c2d56e-8ad1-49af-9e96-18a0648470ee\"\n",
    "print(project_id)"
   ]
  },
  {
   "cell_type": "code",
   "execution_count": null,
   "id": "6a878abd",
   "metadata": {},
   "outputs": [
    {
     "name": "stdout",
     "output_type": "stream",
     "text": [
      "'6e10d16e-f256-44baa77b-069fd2af6fdd'\n"
     ]
    }
   ],
   "source": [
    "model_id = \"model_ff5659fd-d346-4220-82ff-69b5745242bc\"\n",
    "\n",
    "if 'model_id' in tuning_details.get('entity', {}):\n",
    "    model_id = tuning_details['entity']['model_id']\n",
    "model_id"
   ]
  },
  {
   "cell_type": "code",
   "execution_count": 19,
   "id": "f7275c89",
   "metadata": {},
   "outputs": [
    {
     "name": "stderr",
     "output_type": "stream",
     "text": [
      "C:\\Users\\USER\\AppData\\Local\\Temp\\ipykernel_21912\\1900128606.py:5: DeprecationWarning: datetime.datetime.utcnow() is deprecated and scheduled for removal in a future version. Use timezone-aware objects to represent datetimes in UTC: datetime.datetime.now(datetime.UTC).\n",
      "  client.deployments.ConfigurationMetaNames.SERVING_NAME : f\"pt_sdk_deployment_{datetime.utcnow().strftime('%Y_%m_%d_%H%M%S')}\"\n"
     ]
    },
    {
     "name": "stdout",
     "output_type": "stream",
     "text": [
      "\n",
      "\n",
      "######################################################################################\n",
      "\n",
      "Synchronous deployment creation for id: '375301ab-a3f7-4aeb-9505-ab80cd081369' started\n",
      "\n",
      "######################################################################################\n",
      "\n",
      "\n",
      "initializing................\n",
      "ready\n",
      "\n",
      "\n",
      "-----------------------------------------------------------------------------------------------\n",
      "Successfully finished deployment creation, deployment_id='7303cc41-f661-4ba0-960f-9bb6fcb8d0a8'\n",
      "-----------------------------------------------------------------------------------------------\n",
      "\n",
      "\n"
     ]
    }
   ],
   "source": [
    "from datetime import datetime\n",
    "meta_props = {\n",
    "    client.deployments.ConfigurationMetaNames.NAME: \"PT DEPLOYMENT SDK - IBM Granite - Fine tuned\",\n",
    "    client.deployments.ConfigurationMetaNames.ONLINE: {},\n",
    "    client.deployments.ConfigurationMetaNames.SERVING_NAME : f\"pt_sdk_deployment_{datetime.utcnow().strftime('%Y_%m_%d_%H%M%S')}\"\n",
    "}\n",
    "deployment_details = client.deployments.create(model_id, meta_props)"
   ]
  },
  {
   "cell_type": "code",
   "execution_count": null,
   "id": "18c4cbc1",
   "metadata": {},
   "outputs": [
    {
     "name": "stdout",
     "output_type": "stream",
     "text": [
      "'375301ab-a3f7-4aeb-9505-ab80cd081369'\n"
     ]
    }
   ],
   "source": [
    "model_id_inference = deployment_details['metadata']['id']\n",
    "model_id_inference"
   ]
  },
  {
   "cell_type": "code",
   "execution_count": 70,
   "id": "2d152821",
   "metadata": {},
   "outputs": [],
   "source": [
    "from ibm_watsonx_ai.metanames import GenTextParamsMetaNames as GenParams\n",
    "\n",
    "generate_params = {\n",
    "    GenParams.TEMPERATURE: 0,\n",
    "    GenParams.MAX_NEW_TOKENS: 1000,\n",
    "    GenParams.DECODING_METHOD: \"greedy\",\n",
    "}"
   ]
  },
  {
   "cell_type": "code",
   "execution_count": null,
   "id": "221d3adc",
   "metadata": {},
   "outputs": [],
   "source": [
    "from ibm_watsonx_ai.foundation_models import ModelInference\n",
    "\n",
    "tuned_model = ModelInference(\n",
    "    model_id=model_id_inference,\n",
    "    params=generate_params,\n",
    "    api_client=client\n",
    ")"
   ]
  },
  {
   "cell_type": "code",
   "execution_count": null,
   "id": "550e360b",
   "metadata": {},
   "outputs": [
    {
     "name": "stdout",
     "output_type": "stream",
     "text": [
      "\n",
      "🔹 Prompt - id 1: In large collaborative projects, how can organizations overcome the challenge of aligning different stakeholders with a common vision and strategy?\n",
      "📝 Response - id 1: Answer: Develop a clear and concise project vision that articulates the desired outcomes and creates a common goal for all stakeholders. Provide regular updates on the project's progress and involve stakeholders in decision-making processes. Encourage open communication and listening across all stakeholder groups to ensure that their needs and concerns are heard and addressed.\n",
      "----------------------------------------------------------------------------------------------------------------------------------------------------------------------------------------------------------------------------------------------------------------------------------------------------------------------------------------------------------------------------------------------------------------------------------------------------------------------------------------------------------------------------------------------------------------------------------------------------------------------------------------------------------------------------------------------------------------------------------------------------------------------------------------------------------------------------------------------------------------------------------------------------------------------------------------------------------------------------------------------------------------------------------------\n",
      "\n",
      "🔹 Prompt - id 2: In collaborative R&D projects, how can organizations prevent conflicts over intellectual property rights among stakeholders?\n",
      "📝 Response - id 2: Define clear intellectual property rights and ownership terms in the project's governing documents.\n",
      "----------------------------------------------------------------------------------------------------------------------------------------------------------------------------------------------------------------------------------------------------------------------------------------------------------------------------------------------------------------------------------------------------------------------------------------------------------------------------------------------------------------------------------------------------------------------------------------------------------------------------------------------------------------------------------------------------------------------------------------------------------------------------------------------------------------------------------------------------------------------------------------------------------------------------------------------------------------------------------------------------------------------------------------\n",
      "\n",
      "🔹 Prompt - id 3: What is the best practice to deal with stakeholder conflicts and unexpected changes be managed during project execution?\n",
      "📝 Response - id 3: Avoid surprises and build trust with your stakeholders. Make sure you have a clear understanding of their needs and expectations. Communicate regularly and transparently about project progress and any changes or challenges that arise. Be prepared to adapt your approach as needed and be flexible in your plans.\n",
      "----------------------------------------------------------------------------------------------------------------------------------------------------------------------------------------------------------------------------------------------------------------------------------------------------------------------------------------------------------------------------------------------------------------------------------------------------------------------------------------------------------------------------------------------------------------------------------------------------------------------------------------------------------------------------------------------------------------------------------------------------------------------------------------------------------------------------------------------------------------------------------------------------------------------------------------------------------------------------------------------------------------------------------------\n",
      "\n",
      "🔹 Prompt - id 4: How can project managers monitor stakeholder satisfaction and engagement throughout the life of a collaborative project?\n",
      "📝 Response - id 4: Surveys, interviews, focus groups, and other feedback mechanisms can be used to monitor stakeholder satisfaction and engagement.\n",
      "----------------------------------------------------------------------------------------------------------------------------------------------------------------------------------------------------------------------------------------------------------------------------------------------------------------------------------------------------------------------------------------------------------------------------------------------------------------------------------------------------------------------------------------------------------------------------------------------------------------------------------------------------------------------------------------------------------------------------------------------------------------------------------------------------------------------------------------------------------------------------------------------------------------------------------------------------------------------------------------------------------------------------------------\n",
      "\n",
      "🔹 Prompt - id 5: In collaborative R&D projects involving diverse types of stakeholders, how can organizations overcome the challenge of aligning different competencies, mindsets, and goals toward a common vision?\n",
      "📝 Response - id 5: One way to overcome this challenge is to clearly define the project's goals and objectives, and to communicate these goals and objectives to all stakeholders. This will help to ensure that all stakeholders are on the same page and working toward the same goals. Additionally, it is important to establish clear roles and responsibilities for each stakeholder, so that everyone knows what they are expected to contribute to the project. Finally, it is important to establish regular communication channels between all stakeholders, so that everyone can stay informed about the project's progress and any issues that arise. By following these steps, organizations can overcome the challenge of aligning different competencies, mindsets, and goals toward a common vision in collaborative R&D projects involving diverse stakeholders.\n",
      "----------------------------------------------------------------------------------------------------------------------------------------------------------------------------------------------------------------------------------------------------------------------------------------------------------------------------------------------------------------------------------------------------------------------------------------------------------------------------------------------------------------------------------------------------------------------------------------------------------------------------------------------------------------------------------------------------------------------------------------------------------------------------------------------------------------------------------------------------------------------------------------------------------------------------------------------------------------------------------------------------------------------------------------\n",
      "\n",
      "🔹 Prompt - id 6: How can collaborative R&D projects manage the challenge of high stakeholder turnover and resource changes during execution?\n",
      "📝 Response - id 6: Maintain a constant flow of communication with all stakeholders, and make sure that all parties understand the project's goals and objectives. This will help to ensure that all stakeholders are on the same page and that there is a shared understanding of the project's direction. Additionally, make sure to involve all stakeholders in the decision-making process, and provide them with regular updates on the project's progress. Finally, be prepared to adjust the project's scope or timeline as needed in order to accommodate changes in stakeholder resources or priorities.\n",
      "----------------------------------------------------------------------------------------------------------------------------------------------------------------------------------------------------------------------------------------------------------------------------------------------------------------------------------------------------------------------------------------------------------------------------------------------------------------------------------------------------------------------------------------------------------------------------------------------------------------------------------------------------------------------------------------------------------------------------------------------------------------------------------------------------------------------------------------------------------------------------------------------------------------------------------------------------------------------------------------------------------------------------------------\n",
      "\n",
      "🔹 Prompt - id 7: How can communication between scientific and business stakeholders be improved in collaborative innovation projects?\n",
      "📝 Response - id 7: Scientists and business leaders can improve communication by engaging in regular meetings, clearly defining roles and responsibilities, and establishing clear lines of communication. They can also benefit from using shared project management tools and software to centralize information and streamline decision-making.\n",
      "----------------------------------------------------------------------------------------------------------------------------------------------------------------------------------------------------------------------------------------------------------------------------------------------------------------------------------------------------------------------------------------------------------------------------------------------------------------------------------------------------------------------------------------------------------------------------------------------------------------------------------------------------------------------------------------------------------------------------------------------------------------------------------------------------------------------------------------------------------------------------------------------------------------------------------------------------------------------------------------------------------------------------------------\n",
      "\n",
      "🔹 Prompt - id 8: How is stakeholder prioritization managed in collaborative R&D projects?\n",
      "📝 Response - id 8: Answer: A key challenge in managing stakeholder prioritization in RDI projects is the need to balance the needs and interests of multiple, often competing, stakeholders. A common approach to stakeholder prioritization is the use of a \"stakeholder matrix,\" which organizes stakeholders according to their level of influence, interest, and power. The matrix allows project managers to prioritize stakeholder engagement based on their level of importance, and to ensure that all stakeholders are fairly represented in the decision-making process.\n",
      "----------------------------------------------------------------------------------------------------------------------------------------------------------------------------------------------------------------------------------------------------------------------------------------------------------------------------------------------------------------------------------------------------------------------------------------------------------------------------------------------------------------------------------------------------------------------------------------------------------------------------------------------------------------------------------------------------------------------------------------------------------------------------------------------------------------------------------------------------------------------------------------------------------------------------------------------------------------------------------------------------------------------------------------\n",
      "\n",
      "🔹 Prompt - id 9: How can teams manage the misalignment of planning horizons and working styles between universities, public institutions, and companies in collaborative R&D?\n",
      "📝 Response - id 9: One way to manage the misalignment of planning horizons and working styles between universities, public institutions, and companies in collaborative R&D is to establish clear communication channels and set expectations for each party. This can include regular meetings, clear roles and responsibilities, and a shared understanding of the project timeline. Additionally, it can be helpful to establish a shared vision and goals for the project, which can help to align the teams and ensure that everyone is working towards the same objective.\n",
      "----------------------------------------------------------------------------------------------------------------------------------------------------------------------------------------------------------------------------------------------------------------------------------------------------------------------------------------------------------------------------------------------------------------------------------------------------------------------------------------------------------------------------------------------------------------------------------------------------------------------------------------------------------------------------------------------------------------------------------------------------------------------------------------------------------------------------------------------------------------------------------------------------------------------------------------------------------------------------------------------------------------------------------------\n",
      "\n",
      "🔹 Prompt - id 10: how can organizations handle differences in goals, language, and working pace in collaborative R&D projects involving stakeholders from industry and research?\n",
      "📝 Response - id 10: A key challenge in managing stakeholder relationships in RDI projects is the difference in goals, language, and working pace between industry and research stakeholders. Organizations can handle these differences by clearly defining project goals and expectations, using clear and concise language, and establishing clear roles and responsibilities for all stakeholders. Additionally, organizations can encourage stakeholder collaboration and communication through regular meetings, clear communication channels, and a focus on joint problem-solving.\n",
      "----------------------------------------------------------------------------------------------------------------------------------------------------------------------------------------------------------------------------------------------------------------------------------------------------------------------------------------------------------------------------------------------------------------------------------------------------------------------------------------------------------------------------------------------------------------------------------------------------------------------------------------------------------------------------------------------------------------------------------------------------------------------------------------------------------------------------------------------------------------------------------------------------------------------------------------------------------------------------------------------------------------------------------------\n",
      "\n",
      "🔹 Prompt - id 11: How can stakeholder prioritization be handled in large collaborative projects with varying levels of involvement and risk?\n",
      "📝 Response - id 11: An effective way to handle stakeholder prioritization in large collaborative projects with varying levels of involvement and risk is to use a matrix approach. This involves creating a grid that plots the different stakeholders against the different levels of involvement and risk. The matrix can then be used to prioritize the stakeholders based on their level of involvement and risk.\n",
      "----------------------------------------------------------------------------------------------------------------------------------------------------------------------------------------------------------------------------------------------------------------------------------------------------------------------------------------------------------------------------------------------------------------------------------------------------------------------------------------------------------------------------------------------------------------------------------------------------------------------------------------------------------------------------------------------------------------------------------------------------------------------------------------------------------------------------------------------------------------------------------------------------------------------------------------------------------------------------------------------------------------------------------------\n",
      "\n",
      "🔹 Prompt - id 12: What should be done when stakeholders fail to deliver on agreed commitments during a collaborative project?\n",
      "📝 Response - id 12: In such a scenario, it is important to first understand the reasons for the failure and then take corrective actions. For example, if the stakeholders are not able to meet their commitments due to a lack of resources, the project manager should work with them to identify and provide the necessary resources. If the stakeholders are not able to meet their commitments due to a lack of skills or knowledge, the project manager should provide training or other support. If the stakeholders are not able to meet their commitments due to a lack of motivation or interest, the project manager should work with them to identify the causes and take appropriate actions to address them. \n",
      "----------------------------------------------------------------------------------------------------------------------------------------------------------------------------------------------------------------------------------------------------------------------------------------------------------------------------------------------------------------------------------------------------------------------------------------------------------------------------------------------------------------------------------------------------------------------------------------------------------------------------------------------------------------------------------------------------------------------------------------------------------------------------------------------------------------------------------------------------------------------------------------------------------------------------------------------------------------------------------------------------------------------------------------\n",
      "\n",
      "🔹 Prompt - id 13: How can project teams handle the challenge of keeping industry partners engaged and aligned in high-frequency collaborative workflows?\n",
      "📝 Response - id 13: Keep them informed of project updates and changes, and provide them with opportunities to provide feedback and contribute to the project.\n",
      "----------------------------------------------------------------------------------------------------------------------------------------------------------------------------------------------------------------------------------------------------------------------------------------------------------------------------------------------------------------------------------------------------------------------------------------------------------------------------------------------------------------------------------------------------------------------------------------------------------------------------------------------------------------------------------------------------------------------------------------------------------------------------------------------------------------------------------------------------------------------------------------------------------------------------------------------------------------------------------------------------------------------------------------\n",
      "\n",
      "🔹 Prompt - id 14: How can documentation be standardized across diverse stakeholders in large-scale projects?\n",
      "📝 Response - id 14: Standardizing documentation across diverse stakeholders is essential for the success of large-scale projects. One way to achieve this is by developing a project-specific glossary that defines all project terms and acronyms. Another way is to create a central repository for all project documentation, which can be accessed by all stakeholders. Additionally, it is important to establish clear guidelines for documentation style and format. By standardizing documentation across diverse stakeholders, you can ensure that everyone is on the same page and working towards the same goal. \n",
      "----------------------------------------------------------------------------------------------------------------------------------------------------------------------------------------------------------------------------------------------------------------------------------------------------------------------------------------------------------------------------------------------------------------------------------------------------------------------------------------------------------------------------------------------------------------------------------------------------------------------------------------------------------------------------------------------------------------------------------------------------------------------------------------------------------------------------------------------------------------------------------------------------------------------------------------------------------------------------------------------------------------------------------------\n"
     ]
    }
   ],
   "source": [
    "system_prompt = \"You are a leading expert in stakeholder management with extensive experience in complex, multi-stakeholder projects. Provide clear, strategic, and research-informed answers that address the challenges of managing diverse stakeholders across sectors, such as in collaborative initiatives involving industry, academia, and public institutions — for example, Research, Development, and Innovation (RDI) projects. Maintain a professional tone and focus on practical, actionable guidance.\"\n",
    "\n",
    "# Questions\n",
    "prompts = [\n",
    "    \"In large collaborative projects, how can organizations overcome the challenge of aligning different stakeholders with a common vision and strategy?\",\n",
    "    \"In collaborative R&D projects, how can organizations prevent conflicts over intellectual property rights among stakeholders?\",\n",
    "    \"How should stakeholder conflicts and unexpected changes be managed during project execution?\",\n",
    "    \"How can project managers monitor stakeholder satisfaction and engagement throughout the life of a collaborative project?\",\n",
    "    \"In collaborative R&D projects involving diverse types of stakeholders, how can organizations overcome the challenge of aligning different competencies, mindsets, and goals toward a common vision?\",\n",
    "    \"How can collaborative R&D projects manage the challenge of high stakeholder turnover and resource changes during execution?\",\n",
    "    \"How can communication between scientific and business stakeholders be improved in collaborative innovation projects?\",\n",
    "    \"How is stakeholder prioritization managed in collaborative R&D projects?\",\n",
    "    \"How can teams manage the misalignment of planning horizons and working styles between universities, public institutions, and companies in collaborative R&D?\",\n",
    "    \"In collaborative R&D projects involving stakeholders from industry and research, how can organizations handle differences in goals, language, and working pace?\",\n",
    "    \"How can stakeholder prioritization be handled in large collaborative projects with varying levels of involvement and risk?\",\n",
    "    \"What should be done when stakeholders fail to deliver on agreed commitments during a collaborative project?\",\n",
    "    \"How can project teams handle the challenge of keeping industry partners engaged and aligned in high-frequency collaborative workflows?\",\n",
    "    \"How can documentation be standardized across diverse stakeholders in large-scale projects?\"\n",
    "]\n",
    "\n",
    "results = []\n",
    "\n",
    "for idx, user_question in enumerate(prompts, 1):\n",
    "    full_prompt = f\"{system_prompt}\\n\\nQuestion: {user_question}\"\n",
    "\n",
    "    response = tuned_model.generate_text(\n",
    "        prompt=full_prompt\n",
    "    )\n",
    "    results.append({\n",
    "        \"Prompt_ID\": idx,\n",
    "        \"Prompt\": user_question,\n",
    "        \"Response\": response\n",
    "    })\n",
    "    \n",
    "    print(f\"\\n🔹 Prompt - id {idx}: {user_question}\")\n",
    "    print(f\"📝 Response - id {idx}: {response}\")\n",
    "    print(\"-\" * 1000)\n"
   ]
  },
  {
   "cell_type": "code",
   "execution_count": 82,
   "id": "9af39e3b",
   "metadata": {},
   "outputs": [],
   "source": [
    "import pandas as pd\n",
    "from pathlib import Path\n",
    "\n",
    "df = pd.DataFrame(results)\n",
    "file_path = \"Results_Fine_Tuned.xlsx\"\n",
    "df.to_excel(file_path, index=False)\n"
   ]
  }
 ],
 "metadata": {
  "kernelspec": {
   "display_name": ".venv (3.12.4)",
   "language": "python",
   "name": "python3"
  },
  "language_info": {
   "codemirror_mode": {
    "name": "ipython",
    "version": 3
   },
   "file_extension": ".py",
   "mimetype": "text/x-python",
   "name": "python",
   "nbconvert_exporter": "python",
   "pygments_lexer": "ipython3",
   "version": "3.12.4"
  }
 },
 "nbformat": 4,
 "nbformat_minor": 5
}
