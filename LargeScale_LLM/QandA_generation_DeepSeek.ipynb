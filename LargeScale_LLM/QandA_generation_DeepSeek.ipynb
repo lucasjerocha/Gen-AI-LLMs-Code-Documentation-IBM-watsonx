{
 "cells": [
  {
   "cell_type": "code",
   "execution_count": 24,
   "id": "c7f951d9",
   "metadata": {},
   "outputs": [],
   "source": [
    "from langchain.document_loaders import DirectoryLoader, PyPDFLoader\n",
    "from langchain.text_splitter import RecursiveCharacterTextSplitter\n",
    "from langchain.vectorstores import Chroma\n",
    "from ibm_watsonx_ai.foundation_models import ModelInference\n",
    "from ibm_watsonx_ai.foundation_models.utils.enums import ModelTypes\n",
    "import os\n",
    "import os, getpass\n",
    "import json\n"
   ]
  },
  {
   "cell_type": "code",
   "execution_count": 3,
   "id": "930a7b37",
   "metadata": {},
   "outputs": [],
   "source": [
    "from ibm_watsonx_ai import Credentials\n",
    "\n",
    "credentials = Credentials(\n",
    "    url=\"https://us-south.ml.cloud.ibm.com\",\n",
    "    api_key=getpass.getpass(\"Please enter your watsonx.ai api key (hit enter): \"),\n",
    ")"
   ]
  },
  {
   "cell_type": "code",
   "execution_count": 4,
   "id": "e7dd3b7e",
   "metadata": {},
   "outputs": [],
   "source": [
    "try:\n",
    "    project_id = os.environ[\"PROJECT_ID\"]\n",
    "except KeyError:\n",
    "    project_id = input(\"Please enter your project_id (hit enter): \")"
   ]
  },
  {
   "cell_type": "code",
   "execution_count": 5,
   "id": "1c2b0441",
   "metadata": {},
   "outputs": [],
   "source": [
    "from ibm_watsonx_ai import APIClient\n",
    "\n",
    "api_client = APIClient(credentials=credentials, project_id=project_id)"
   ]
  },
  {
   "cell_type": "code",
   "execution_count": 6,
   "id": "d886ffa9",
   "metadata": {},
   "outputs": [],
   "source": [
    "loader = DirectoryLoader(\n",
    "    r\"C:\\Users\\USER\\Downloads\\Mestrado_Dissertação\\Artigos\\Eligibility\",\n",
    "    glob=\"*.pdf\",\n",
    "    loader_cls=PyPDFLoader\n",
    ")\n",
    "documents = loader.load()"
   ]
  },
  {
   "cell_type": "code",
   "execution_count": 7,
   "id": "c27512b1",
   "metadata": {},
   "outputs": [
    {
     "name": "stdout",
     "output_type": "stream",
     "text": [
      "📄 Total articles: 170\n"
     ]
    }
   ],
   "source": [
    "unique_articles = set(doc.metadata[\"source\"] for doc in documents)\n",
    "\n",
    "print(f\"📄 Total articles: {len(unique_articles)}\")\n"
   ]
  },
  {
   "cell_type": "code",
   "execution_count": null,
   "id": "fc988cd4",
   "metadata": {},
   "outputs": [
    {
     "name": "stdout",
     "output_type": "stream",
     "text": [
      "✅ Total chunks: 3233\n",
      "📄 Example:\n",
      "Vol.:(0123456789)1 3\n",
      "Journal of Business Ethics (2020) 167:111–125 \n",
      "https://doi.org/10.1007/s10551-019-04161-4\n",
      "ORIGINAL PAPER\n",
      "Stakeholder Relationship Capability and Firm Innovation: \n",
      "A Contingent Analysis\n",
      "Wei Jiang1 · Aric Xu Wang2  · Kevin Zheng Zhou2  · Chuang Zhang3\n",
      "Received: 7 September 2018 / Accepted: 11 April 2019 / Published online: 23 April 2019 \n",
      "© Springer Nature B.V. 2019\n",
      "Abstract\n",
      "Despite the growing importance of stakeholder management, few studies have empirically examined the influence of stake-\n",
      "holder relationship capability (SRC) on firm innovation, especially in emerging economies. This study investigates how SRC \n",
      "relates to firm innovation in the presence of governmental intervention and in combination with firm-level characteristics. \n",
      "Using a survey and multiple secondary datasets on the listed Chinese firms, our findings indicate that SRC is positively \n",
      "associated with firm innovation. Moreover, advanced legal development and high-tech status strengthen the positiv...\n"
     ]
    }
   ],
   "source": [
    "from langchain.document_loaders import DirectoryLoader, PyPDFLoader\n",
    "from langchain.text_splitter import CharacterTextSplitter\n",
    "from langchain_chroma import Chroma\n",
    "\n",
    "\n",
    "#Divide the text in chunks \n",
    "text_splitter = CharacterTextSplitter(\n",
    "    chunk_size=1024,\n",
    "    chunk_overlap=256 \n",
    ")\n",
    "texts = text_splitter.split_documents(documents)\n",
    "\n",
    "print(f\"✅ Total chunks: {len(texts)}\")\n",
    "print(f\"📄 Example:\\n{texts[0].page_content[:1000]}...\")\n"
   ]
  },
  {
   "cell_type": "code",
   "execution_count": 9,
   "id": "3e52ef1c",
   "metadata": {},
   "outputs": [
    {
     "name": "stdout",
     "output_type": "stream",
     "text": [
      "{'GRANITE_EMBEDDING_107M_MULTILINGUAL': 'ibm/granite-embedding-107m-multilingual', 'GRANITE_EMBEDDING_278M_MULTILINGUAL': 'ibm/granite-embedding-278m-multilingual', 'SLATE_125M_ENGLISH_RTRVR': 'ibm/slate-125m-english-rtrvr', 'SLATE_125M_ENGLISH_RTRVR_V2': 'ibm/slate-125m-english-rtrvr-v2', 'SLATE_30M_ENGLISH_RTRVR': 'ibm/slate-30m-english-rtrvr', 'SLATE_30M_ENGLISH_RTRVR_V2': 'ibm/slate-30m-english-rtrvr-v2', 'MULTILINGUAL_E5_LARGE': 'intfloat/multilingual-e5-large', 'ALL_MINILM_L12_V2': 'sentence-transformers/all-minilm-l12-v2', 'ALL_MINILM_L6_V2': 'sentence-transformers/all-minilm-l6-v2'}\n"
     ]
    }
   ],
   "source": [
    "api_client.foundation_models.EmbeddingModels.show()"
   ]
  },
  {
   "cell_type": "code",
   "execution_count": null,
   "id": "03ee2e39",
   "metadata": {},
   "outputs": [],
   "source": [
    "from langchain_huggingface import HuggingFaceEmbeddings\n",
    "from langchain_chroma import Chroma\n",
    "from langchain.text_splitter import CharacterTextSplitter\n",
    "from langchain.document_loaders import DirectoryLoader, PyPDFLoader\n",
    "\n",
    "\n",
    "splitter = CharacterTextSplitter(chunk_size=1024, chunk_overlap=256)\n",
    "texts = splitter.split_documents(documents)\n",
    "\n",
    "#Embeddings with e5-large\n",
    "embedding_function = HuggingFaceEmbeddings(\n",
    "    model_name=\"intfloat/multilingual-e5-large\",\n",
    "    encode_kwargs={\"normalize_embeddings\": True}\n",
    ")\n",
    "\n",
    "#Index with ChromaDB\n",
    "db = Chroma.from_documents(\n",
    "    documents=texts,\n",
    "    embedding=embedding_function,\n",
    "    persist_directory=\"./test_db\"\n",
    ")\n"
   ]
  },
  {
   "cell_type": "code",
   "execution_count": 12,
   "id": "522fea2b",
   "metadata": {},
   "outputs": [],
   "source": [
    "from ibm_watsonx_ai.metanames import GenTextParamsMetaNames as GenParams\n",
    "from ibm_watsonx_ai.foundation_models.utils.enums import DecodingMethods\n",
    "\n",
    "generate_params = {\n",
    "    GenParams.DECODING_METHOD: DecodingMethods.GREEDY,\n",
    "    GenParams.TEMPERATURE:       0,\n",
    "    GenParams.MIN_NEW_TOKENS:    1,\n",
    "    GenParams.MAX_NEW_TOKENS:    1000,\n",
    "    GenParams.STOP_SEQUENCES: [\"<|endoftext|>\"]\n",
    "\n",
    "}"
   ]
  },
  {
   "cell_type": "code",
   "execution_count": null,
   "id": "9af1b313",
   "metadata": {},
   "outputs": [],
   "source": [
    "\n",
    "model_id = \"deepseek-ai/deepSeek-r1-distill-llama-70b\""
   ]
  },
  {
   "cell_type": "code",
   "execution_count": null,
   "id": "3bbf9afb",
   "metadata": {},
   "outputs": [],
   "source": [
    "from langchain_ibm import WatsonxLLM\n",
    "\n",
    "deepseek = WatsonxLLM(\n",
    "    model_id=model_id,\n",
    "    url=credentials.get(\"url\"),\n",
    "    apikey=credentials.get(\"apikey\"),\n",
    "    project_id=project_id,\n",
    "    params=generate_params\n",
    ")\n"
   ]
  },
  {
   "cell_type": "code",
   "execution_count": null,
   "id": "bd402837",
   "metadata": {},
   "outputs": [
    {
     "name": "stdout",
     "output_type": "stream",
     "text": [
      "🎯 Total Q&A pairs generated: 5000\n"
     ]
    }
   ],
   "source": [
    "#Generate Q&A pairs for each document\n",
    "qa_pairs = []\n",
    "for i, doc in enumerate(documents):\n",
    "    content = doc.page_content[:3000]  # Limit to prevent overflow\n",
    "    prompt = f'''You are a domain expert in stakeholder management.\n",
    "\n",
    "Your task is to read the content provided below and generate 25 to 30 high-quality question–answer pairs. Focus on the main findings and insights related to stakeholder management in each article.\n",
    "\n",
    "Each question should:\n",
    "- Be clear and relevant to the article’s content.\n",
    "- Target key concepts, practices, challenges, or implications of stakeholder management.\n",
    "- Encourage understanding of core themes, not trivial details.\n",
    "\n",
    "Each answer should:\n",
    "- Be concise, accurate, and informative.\n",
    "- Reflect the article’s specific viewpoint or evidence where applicable.\n",
    "\n",
    "Ensure the Q&A pairs are diverse in focus and suitable for use in training or assessment contexts.\n",
    "\n",
    "Content:\n",
    "\"\"\"\n",
    "{content}\n",
    "\"\"\"\n",
    "\n",
    "Output format (JSON):\n",
    "[{{\"question\": \"...\", \"answer\": \"...\"}}]''' \n",
    "\n",
    "    try:\n",
    "        result = deepseek.generate_text(prompt)\n",
    "        raw_pairs = json.loads(result)\n",
    "        formatted_pairs = [\n",
    "            {\"input\": p[\"question\"], \"output\": p[\"answer\"]}\n",
    "            for p in raw_pairs if \"question\" in p and \"answer\" in p\n",
    "    ]\n",
    "        qa_pairs.extend(formatted_pairs)\n",
    "    except Exception as e:\n",
    "        pass\n",
    "\n",
    "# Step 7: Save Q&A to JSON\n",
    "with open(\"qa_pairs_stakeholder.json\", \"w\", encoding=\"utf-8\") as f:\n",
    "    json.dump(qa_pairs, f, ensure_ascii=False, indent=2)\n",
    "\n",
    "print(f\"🎯 Total Q&A pairs generated: {len(qa_pairs)}\")"
   ]
  }
 ],
 "metadata": {
  "kernelspec": {
   "display_name": ".venv",
   "language": "python",
   "name": "python3"
  },
  "language_info": {
   "codemirror_mode": {
    "name": "ipython",
    "version": 3
   },
   "file_extension": ".py",
   "mimetype": "text/x-python",
   "name": "python",
   "nbconvert_exporter": "python",
   "pygments_lexer": "ipython3",
   "version": "3.12.4"
  }
 },
 "nbformat": 4,
 "nbformat_minor": 5
}
